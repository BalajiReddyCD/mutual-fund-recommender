{
 "cells": [
  {
   "cell_type": "code",
   "execution_count": 3,
   "id": "45d9acc5-9e83-4e4b-aa8f-4622ebb7f34c",
   "metadata": {},
   "outputs": [],
   "source": [
    "import pandas as pd\n",
    "df = pd.read_csv(r\"C:/Users/BALA/OneDrive - University of Hertfordshire/Desktop/final project/app/data/processed/preprocessed_mutual_funds.csv\")"
   ]
  },
  {
   "cell_type": "code",
   "execution_count": 7,
   "id": "17cd7bf6-de72-4834-86d4-3d25451f8be0",
   "metadata": {},
   "outputs": [
    {
     "name": "stdout",
     "output_type": "stream",
     "text": [
      " Feature engineering completed. Data saved to: data/processed/preprocessed_mutual_funds.csv\n"
     ]
    }
   ],
   "source": [
    "import pandas as pd\n",
    "import numpy as np\n",
    "\n",
    "# 1. Load preprocessed raw data\n",
    "df = pd.read_csv(r\"C:/Users/BALA/OneDrive - University of Hertfordshire/Desktop/final project/app/data/processed/preprocessed_mutual_funds.csv\")\n",
    "\n",
    "# 2. Convert 'Date' to datetime\n",
    "df['Date'] = pd.to_datetime(df['Date'], errors='coerce')\n",
    "\n",
    "# 3. Sort by Scheme_Code and Date for time-series calculations\n",
    "df = df.sort_values(by=['Scheme_Code', 'Date']).reset_index(drop=True)\n",
    "\n",
    "# 4. Calculate Daily Return (%)\n",
    "df['Daily_Return'] = df.groupby('Scheme_Code')['NAV'].pct_change() * 100\n",
    "\n",
    "# 5. Rolling 30-day NAV Mean & Std Dev\n",
    "df['Rolling_Mean_NAV'] = df.groupby('Scheme_Code')['NAV'] \\\n",
    "                           .transform(lambda x: x.rolling(window=30, min_periods=1).mean())\n",
    "\n",
    "df['Rolling_Std_NAV'] = df.groupby('Scheme_Code')['NAV'] \\\n",
    "                          .transform(lambda x: x.rolling(window=30, min_periods=1).std())\n",
    "\n",
    "# 6. CAGR Function (per Scheme_Code)\n",
    "def calculate_cagr(sub_df):\n",
    "    try:\n",
    "        if len(sub_df) < 2:\n",
    "            return np.nan\n",
    "        start_nav = sub_df['NAV'].iloc[0]\n",
    "        end_nav = sub_df['NAV'].iloc[-1]\n",
    "        n_years = (sub_df['Date'].iloc[-1] - sub_df['Date'].iloc[0]).days / 365.25\n",
    "        if n_years == 0 or start_nav == 0:\n",
    "            return np.nan\n",
    "        return ((end_nav / start_nav) ** (1 / n_years) - 1) * 100\n",
    "    except:\n",
    "        return np.nan\n",
    "\n",
    "# Step 7: Calculate CAGR per Scheme_Code and map to full DataFrame\n",
    "cagr_values = df.groupby('Scheme_Code', group_keys=False)[['Date', 'NAV']] \\\n",
    "                .apply(calculate_cagr)\n",
    "\n",
    "df['CAGR'] = df['Scheme_Code'].map(cagr_values)\n",
    "\n",
    "# 8. Save updated dataset\n",
    "df.to_csv(r\"C:/Users/BALA/OneDrive - University of Hertfordshire/Desktop/final project/app/data/processed/preprocessed_mutual_funds.csv\", index=False)\n",
    "\n",
    "print(\" Feature engineering completed. Data saved to: data/processed/preprocessed_mutual_funds.csv\")\n"
   ]
  },
  {
   "cell_type": "code",
   "execution_count": null,
   "id": "e1054ffa-52e6-4a65-887e-fc2403ea2cb7",
   "metadata": {},
   "outputs": [],
   "source": []
  }
 ],
 "metadata": {
  "kernelspec": {
   "display_name": "Python 3 (ipykernel)",
   "language": "python",
   "name": "python3"
  },
  "language_info": {
   "codemirror_mode": {
    "name": "ipython",
    "version": 3
   },
   "file_extension": ".py",
   "mimetype": "text/x-python",
   "name": "python",
   "nbconvert_exporter": "python",
   "pygments_lexer": "ipython3",
   "version": "3.12.7"
  }
 },
 "nbformat": 4,
 "nbformat_minor": 5
}
