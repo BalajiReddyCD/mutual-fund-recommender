{
 "cells": [
  {
   "cell_type": "code",
   "execution_count": null,
   "id": "e12b559a-1134-4ed9-94d1-9c92f78ab846",
   "metadata": {},
   "outputs": [],
   "source": []
  },
  {
   "cell_type": "code",
   "execution_count": 40,
   "id": "79ae0d22-ffe3-45aa-9432-73c9e0ecc57c",
   "metadata": {},
   "outputs": [
    {
     "name": "stdout",
     "output_type": "stream",
     "text": [
      "Data loaded: (29033646, 8)\n"
     ]
    }
   ],
   "source": [
    "import pandas as pd\n",
    "import numpy as np\n",
    "import matplotlib.pyplot as plt\n",
    "from sklearn.metrics import mean_squared_error, mean_absolute_error\n",
    "from statsmodels.tsa.arima.model import ARIMA\n",
    "\n",
    "# Load cleaned + scaled dataset\n",
    "df = pd.read_csv(\"C:/Users/BALA/OneDrive - University of Hertfordshire/Desktop/mutual-fund-recommender/data/processed/preprocessed_mutual_funds.csv\")\n",
    "df['Date'] = pd.to_datetime(df['Date'])\n",
    "\n",
    "print(\"Data loaded:\", df.shape)\n"
   ]
  },
  {
   "cell_type": "markdown",
   "id": "4defc114-e97e-41be-b6fc-5bfc6de841c5",
   "metadata": {},
   "source": [
    "## Select Top 5 Most Frequent Scheme_Codes"
   ]
  },
  {
   "cell_type": "code",
   "execution_count": 41,
   "id": "fe3d0120",
   "metadata": {
    "vscode": {
     "languageId": "plaintext"
    }
   },
   "outputs": [
    {
     "name": "stdout",
     "output_type": "stream",
     "text": [
      " Top 5 Schemes: [101206, 103140, 102012, 102008, 102009]\n"
     ]
    }
   ],
   "source": [
    "top_5_schemes = df['Scheme_Code'].value_counts().head(5).index.tolist()\n",
    "print(\" Top 5 Schemes:\", top_5_schemes)\n"
   ]
  },
  {
   "cell_type": "markdown",
   "id": "d3ca1d8e-a1d6-49b0-8661-53df4d3f2884",
   "metadata": {},
   "source": [
    "## ARIMA Forecasting Loop"
   ]
  },
  {
   "cell_type": "code",
   "execution_count": 42,
   "id": "781b1483-1212-4464-b5b2-75c7f08af0c4",
   "metadata": {},
   "outputs": [
    {
     "name": "stdout",
     "output_type": "stream",
     "text": [
      "\n",
      " Processing Scheme_Code: 101206\n",
      "\n",
      " Processing Scheme_Code: 103140\n",
      "\n",
      " Processing Scheme_Code: 102012\n",
      " Error with 102012: Schur decomposition solver error.\n",
      "\n",
      " Processing Scheme_Code: 102008\n",
      "\n",
      " Processing Scheme_Code: 102009\n"
     ]
    }
   ],
   "source": [
    "import warnings\n",
    "warnings.filterwarnings(\"ignore\") \n",
    "\n",
    "results = []\n",
    "all_forecasts = {}\n",
    "\n",
    "for code in top_5_schemes:\n",
    "    print(f\"\\n Processing Scheme_Code: {code}\")\n",
    "    scheme_df = df[df['Scheme_Code'] == code].sort_values(\"Date\")\n",
    "    scheme_df.set_index(\"Date\", inplace=True)\n",
    "\n",
    "    ts = scheme_df['NAV_scaled']\n",
    "\n",
    "    # Train-test split (80/20)\n",
    "    split = int(len(ts) * 0.8)\n",
    "    train, test = ts[:split], ts[split:]\n",
    "\n",
    "    try:\n",
    "        model = ARIMA(train, order=(2, 1, 2))  # Try (2,1,2) first\n",
    "        model_fit = model.fit()\n",
    "        forecast = model_fit.forecast(steps=len(test))\n",
    "\n",
    "        rmse = np.sqrt(mean_squared_error(test, forecast))\n",
    "        mae = mean_absolute_error(test, forecast)\n",
    "\n",
    "        results.append({\n",
    "            'Scheme_Code': code,\n",
    "            'RMSE': rmse,\n",
    "            'MAE': mae,\n",
    "            'Train_Size': len(train),\n",
    "            'Test_Size': len(test)\n",
    "        })\n",
    "\n",
    "        # Save for later plotting\n",
    "        all_forecasts[code] = {\n",
    "            'train': train,\n",
    "            'test': test,\n",
    "            'forecast': forecast\n",
    "        }\n",
    "\n",
    "    except Exception as e:\n",
    "        print(f\" Error with {code}: {e}\")\n"
   ]
  },
  {
   "cell_type": "markdown",
   "id": "556fbeb0-a48e-4906-a3d5-228fbd7375ce",
   "metadata": {},
   "source": [
    "## Display Leaderboard"
   ]
  },
  {
   "cell_type": "code",
   "execution_count": 43,
   "id": "9e5ac9d6-aab5-4125-966a-90ffd4832d44",
   "metadata": {},
   "outputs": [
    {
     "name": "stdout",
     "output_type": "stream",
     "text": [
      "\n",
      " ARIMA Leaderboard (sorted by RMSE):\n"
     ]
    },
    {
     "data": {
      "text/html": [
       "<div>\n",
       "<style scoped>\n",
       "    .dataframe tbody tr th:only-of-type {\n",
       "        vertical-align: middle;\n",
       "    }\n",
       "\n",
       "    .dataframe tbody tr th {\n",
       "        vertical-align: top;\n",
       "    }\n",
       "\n",
       "    .dataframe thead th {\n",
       "        text-align: right;\n",
       "    }\n",
       "</style>\n",
       "<table border=\"1\" class=\"dataframe\">\n",
       "  <thead>\n",
       "    <tr style=\"text-align: right;\">\n",
       "      <th></th>\n",
       "      <th>Scheme_Code</th>\n",
       "      <th>RMSE</th>\n",
       "      <th>MAE</th>\n",
       "      <th>Train_Size</th>\n",
       "      <th>Test_Size</th>\n",
       "    </tr>\n",
       "  </thead>\n",
       "  <tbody>\n",
       "    <tr>\n",
       "      <th>1</th>\n",
       "      <td>103140</td>\n",
       "      <td>0.055611</td>\n",
       "      <td>0.042457</td>\n",
       "      <td>4852</td>\n",
       "      <td>1213</td>\n",
       "    </tr>\n",
       "    <tr>\n",
       "      <th>0</th>\n",
       "      <td>101206</td>\n",
       "      <td>0.074520</td>\n",
       "      <td>0.064020</td>\n",
       "      <td>4852</td>\n",
       "      <td>1213</td>\n",
       "    </tr>\n",
       "    <tr>\n",
       "      <th>3</th>\n",
       "      <td>102009</td>\n",
       "      <td>0.124912</td>\n",
       "      <td>0.110629</td>\n",
       "      <td>4766</td>\n",
       "      <td>1192</td>\n",
       "    </tr>\n",
       "    <tr>\n",
       "      <th>2</th>\n",
       "      <td>102008</td>\n",
       "      <td>0.466392</td>\n",
       "      <td>0.391786</td>\n",
       "      <td>4766</td>\n",
       "      <td>1192</td>\n",
       "    </tr>\n",
       "  </tbody>\n",
       "</table>\n",
       "</div>"
      ],
      "text/plain": [
       "   Scheme_Code      RMSE       MAE  Train_Size  Test_Size\n",
       "1       103140  0.055611  0.042457        4852       1213\n",
       "0       101206  0.074520  0.064020        4852       1213\n",
       "3       102009  0.124912  0.110629        4766       1192\n",
       "2       102008  0.466392  0.391786        4766       1192"
      ]
     },
     "metadata": {},
     "output_type": "display_data"
    }
   ],
   "source": [
    "results_df = pd.DataFrame(results).sort_values(by='RMSE')\n",
    "print(\"\\n ARIMA Leaderboard (sorted by RMSE):\")\n",
    "display(results_df)\n"
   ]
  },
  {
   "cell_type": "markdown",
   "id": "08385410-be3e-4ea6-8428-d8369c7a72c8",
   "metadata": {},
   "source": [
    "## Plot Forecast for Best Scheme"
   ]
  },
  {
   "cell_type": "code",
   "execution_count": 44,
   "id": "b2e0b1ca-7b7b-4757-9741-e54167b26274",
   "metadata": {},
   "outputs": [
    {
     "data": {
      "image/png": "[encoded data removed]",
      "text/plain": [
       "<Figure size 1200x500 with 1 Axes>"
      ]
     },
     "metadata": {},
     "output_type": "display_data"
    }
   ],
   "source": [
    "best_scheme = results_df.iloc[0]['Scheme_Code']\n",
    "data = all_forecasts[best_scheme]\n",
    "\n",
    "plt.figure(figsize=(12, 5))\n",
    "plt.plot(data['train'], label='Train')\n",
    "plt.plot(data['test'], label='Actual')\n",
    "plt.plot(data['test'].index, data['forecast'], label='Forecast', linestyle='--')\n",
    "plt.title(f\"📈 ARIMA Forecast for Scheme_Code: {best_scheme}\")\n",
    "plt.xlabel(\"Date\")\n",
    "plt.ylabel(\"NAV_scaled\")\n",
    "plt.legend()\n",
    "plt.grid(True)\n",
    "plt.tight_layout()\n",
    "plt.show()\n"
   ]
  },
  {
   "cell_type": "markdown",
   "id": "f0956957-03b7-4ebd-bd86-5897f936a557",
   "metadata": {},
   "source": [
    "# LSTM"
   ]
  },
  {
   "cell_type": "code",
   "execution_count": 45,
   "id": "fa71ebde-dd29-4b2f-ad9d-e075b189037a",
   "metadata": {},
   "outputs": [],
   "source": [
    "import tensorflow as tf\n",
    "from tensorflow.keras.models import Sequential\n",
    "from tensorflow.keras.layers import LSTM, Dense\n",
    "import matplotlib.pyplot as plt\n"
   ]
  },
  {
   "cell_type": "code",
   "execution_count": 46,
   "id": "8b833371-e311-47df-a316-e24ccd142199",
   "metadata": {},
   "outputs": [],
   "source": [
    "def create_sequences(data, window_size=30):\n",
    "    X, y = [], []\n",
    "    for i in range(len(data) - window_size):\n",
    "        X.append(data[i:i+window_size])\n",
    "        y.append(data[i+window_size])\n",
    "    return np.array(X), np.array(y)\n"
   ]
  },
  {
   "cell_type": "code",
   "execution_count": 47,
   "id": "8af85986-a2c3-4667-9d64-bc1d1b8b0164",
   "metadata": {},
   "outputs": [],
   "source": [
    "def build_lstm_model(input_shape):\n",
    "    model = Sequential()\n",
    "    model.add(LSTM(50, activation='relu', input_shape=input_shape))\n",
    "    model.add(Dense(1))\n",
    "    model.compile(optimizer='adam', loss='mse')\n",
    "    return model\n"
   ]
  },
  {
   "cell_type": "code",
   "execution_count": 48,
   "id": "4869ea92-6d21-44da-a23e-872f7a92c7dd",
   "metadata": {},
   "outputs": [
    {
     "name": "stdout",
     "output_type": "stream",
     "text": [
      "\n",
      " Training LSTM for Scheme: 101206\n",
      "\u001b[1m38/38\u001b[0m \u001b[32m━━━━━━━━━━━━━━━━━━━━\u001b[0m\u001b[37m\u001b[0m \u001b[1m1s\u001b[0m 15ms/step\n"
     ]
    },
    {
     "data": {
      "image/png": "[encoded data removed]",
      "text/plain": [
       "<Figure size 1200x400 with 1 Axes>"
      ]
     },
     "metadata": {},
     "output_type": "display_data"
    },
    {
     "name": "stdout",
     "output_type": "stream",
     "text": [
      "\n",
      " Training LSTM for Scheme: 103140\n",
      "\u001b[1m38/38\u001b[0m \u001b[32m━━━━━━━━━━━━━━━━━━━━\u001b[0m\u001b[37m\u001b[0m \u001b[1m2s\u001b[0m 24ms/step\n",
      "\n",
      " Training LSTM for Scheme: 102012\n",
      "\u001b[1m38/38\u001b[0m \u001b[32m━━━━━━━━━━━━━━━━━━━━\u001b[0m\u001b[37m\u001b[0m \u001b[1m1s\u001b[0m 19ms/step\n",
      "\n",
      " Training LSTM for Scheme: 102008\n",
      "\u001b[1m38/38\u001b[0m \u001b[32m━━━━━━━━━━━━━━━━━━━━\u001b[0m\u001b[37m\u001b[0m \u001b[1m1s\u001b[0m 14ms/step\n",
      "\n",
      " Training LSTM for Scheme: 102009\n",
      "\u001b[1m38/38\u001b[0m \u001b[32m━━━━━━━━━━━━━━━━━━━━\u001b[0m\u001b[37m\u001b[0m \u001b[1m1s\u001b[0m 12ms/step\n"
     ]
    }
   ],
   "source": [
    "lstm_forecasts = {}  # to store predictions per scheme\n",
    "results_lstm = []\n",
    "window_size = 30\n",
    "epochs = 10  # can increase for better performance\n",
    "\n",
    "for code in top_5_schemes:\n",
    "    print(f\"\\n Training LSTM for Scheme: {code}\")\n",
    "    scheme_df = df[df['Scheme_Code'] == code].sort_values('Date')\n",
    "    ts = scheme_df['NAV_scaled'].values\n",
    "\n",
    "    # Create sequences\n",
    "    X, y = create_sequences(ts, window_size)\n",
    "\n",
    "    # Train-test split (80/20)\n",
    "    split = int(len(X) * 0.8)\n",
    "    X_train, X_test = X[:split], X[split:]\n",
    "    y_train, y_test = y[:split], y[split:]\n",
    "\n",
    "    # Reshape for LSTM\n",
    "    X_train = X_train.reshape((X_train.shape[0], X_train.shape[1], 1))\n",
    "    X_test = X_test.reshape((X_test.shape[0], X_test.shape[1], 1))\n",
    "\n",
    "    try:\n",
    "        # Build + train model\n",
    "        model = build_lstm_model((window_size, 1))\n",
    "        history = model.fit(X_train, y_train, epochs=epochs, batch_size=32, verbose=0)\n",
    "\n",
    "        # Predict\n",
    "        y_pred = model.predict(X_test)\n",
    "\n",
    "        # Evaluate\n",
    "        rmse = np.sqrt(mean_squared_error(y_test, y_pred))\n",
    "        mae = mean_absolute_error(y_test, y_pred)\n",
    "\n",
    "        results_lstm.append({\n",
    "            'Scheme_Code': code,\n",
    "            'RMSE': rmse,\n",
    "            'MAE': mae\n",
    "        })\n",
    "\n",
    "        # Optional: Plot one forecast\n",
    "        if code == top_5_schemes[0]:\n",
    "            plt.figure(figsize=(12, 4))\n",
    "            plt.plot(y_test, label='Actual')\n",
    "            plt.plot(y_pred, label='Predicted', linestyle='--')\n",
    "            plt.title(f'LSTM Forecast - Scheme {code}')\n",
    "            plt.legend()\n",
    "            plt.grid(True)\n",
    "            plt.show()\n",
    "\n",
    "    except Exception as e:\n",
    "        print(f\" Error with LSTM for {code}: {e}\")\n"
   ]
  },
  {
   "cell_type": "code",
   "execution_count": 49,
   "id": "132808fc-0b2a-440f-86f1-156d2903ff9c",
   "metadata": {},
   "outputs": [
    {
     "name": "stdout",
     "output_type": "stream",
     "text": [
      "\n",
      " LSTM Leaderboard:\n"
     ]
    },
    {
     "data": {
      "text/html": [
       "<div>\n",
       "<style scoped>\n",
       "    .dataframe tbody tr th:only-of-type {\n",
       "        vertical-align: middle;\n",
       "    }\n",
       "\n",
       "    .dataframe tbody tr th {\n",
       "        vertical-align: top;\n",
       "    }\n",
       "\n",
       "    .dataframe thead th {\n",
       "        text-align: right;\n",
       "    }\n",
       "</style>\n",
       "<table border=\"1\" class=\"dataframe\">\n",
       "  <thead>\n",
       "    <tr style=\"text-align: right;\">\n",
       "      <th></th>\n",
       "      <th>Scheme_Code</th>\n",
       "      <th>RMSE</th>\n",
       "      <th>MAE</th>\n",
       "    </tr>\n",
       "  </thead>\n",
       "  <tbody>\n",
       "    <tr>\n",
       "      <th>1</th>\n",
       "      <td>103140</td>\n",
       "      <td>0.010989</td>\n",
       "      <td>0.007837</td>\n",
       "    </tr>\n",
       "    <tr>\n",
       "      <th>3</th>\n",
       "      <td>102008</td>\n",
       "      <td>0.011130</td>\n",
       "      <td>0.007961</td>\n",
       "    </tr>\n",
       "    <tr>\n",
       "      <th>0</th>\n",
       "      <td>101206</td>\n",
       "      <td>0.017000</td>\n",
       "      <td>0.015993</td>\n",
       "    </tr>\n",
       "    <tr>\n",
       "      <th>2</th>\n",
       "      <td>102012</td>\n",
       "      <td>0.017628</td>\n",
       "      <td>0.015314</td>\n",
       "    </tr>\n",
       "    <tr>\n",
       "      <th>4</th>\n",
       "      <td>102009</td>\n",
       "      <td>0.030250</td>\n",
       "      <td>0.025921</td>\n",
       "    </tr>\n",
       "  </tbody>\n",
       "</table>\n",
       "</div>"
      ],
      "text/plain": [
       "   Scheme_Code      RMSE       MAE\n",
       "1       103140  0.010989  0.007837\n",
       "3       102008  0.011130  0.007961\n",
       "0       101206  0.017000  0.015993\n",
       "2       102012  0.017628  0.015314\n",
       "4       102009  0.030250  0.025921"
      ]
     },
     "metadata": {},
     "output_type": "display_data"
    }
   ],
   "source": [
    "results_lstm_df = pd.DataFrame(results_lstm).sort_values(by='RMSE')\n",
    "print(\"\\n LSTM Leaderboard:\")\n",
    "display(results_lstm_df)\n"
   ]
  },
  {
   "cell_type": "markdown",
   "id": "0c53f35b-a84c-4290-905f-7c55f927ac0f",
   "metadata": {},
   "source": [
    "# Prophet Model"
   ]
  },
  {
   "cell_type": "code",
   "execution_count": 50,
   "id": "14824c3f-86bd-44cc-ad33-1bdbcce8e834",
   "metadata": {},
   "outputs": [],
   "source": [
    "!pip install prophet --quiet"
   ]
  },
  {
   "cell_type": "code",
   "execution_count": 51,
   "id": "e5821f8e-7b6a-494a-9432-b974f1aaed0b",
   "metadata": {},
   "outputs": [],
   "source": [
    "from prophet import Prophet\n"
   ]
  },
  {
   "cell_type": "code",
   "execution_count": 52,
   "id": "355f36bd-e357-4ea0-85a4-c5e129a218c0",
   "metadata": {},
   "outputs": [],
   "source": [
    "def run_prophet_forecast(scheme_df, forecast_days=30):\n",
    "    # Prepare data\n",
    "    prophet_df = scheme_df[['Date', 'NAV_scaled']].rename(columns={\n",
    "        'Date': 'ds',\n",
    "        'NAV_scaled': 'y'\n",
    "    })\n",
    "\n",
    "    # Train-test split (e.g. 80/20 based on index)\n",
    "    split_idx = int(len(prophet_df) * 0.8)\n",
    "    train_df = prophet_df.iloc[:split_idx]\n",
    "    test_df = prophet_df.iloc[split_idx:]\n",
    "\n",
    "    # Build and fit model\n",
    "    model = Prophet()\n",
    "    model.fit(train_df)\n",
    "\n",
    "    # Predict into test range\n",
    "    future = model.make_future_dataframe(periods=len(test_df), freq='D')\n",
    "    forecast = model.predict(future)\n",
    "\n",
    "    # Align forecast with actual\n",
    "    forecast_trimmed = forecast.iloc[-len(test_df):]['yhat'].values\n",
    "    y_true = test_df['y'].values\n",
    "\n",
    "    # Metrics\n",
    "    rmse = np.sqrt(mean_squared_error(y_true, forecast_trimmed))\n",
    "    mae = mean_absolute_error(y_true, forecast_trimmed)\n",
    "\n",
    "    return y_true, forecast_trimmed, rmse, mae, model, forecast\n"
   ]
  },
  {
   "cell_type": "code",
   "execution_count": 53,
   "id": "a71ec9c6-ccc4-46e9-963e-c8b85acea6f2",
   "metadata": {},
   "outputs": [
    {
     "name": "stdout",
     "output_type": "stream",
     "text": [
      "\n",
      " Running Prophet for Scheme: 101206\n"
     ]
    },
    {
     "name": "stderr",
     "output_type": "stream",
     "text": [
      "22:12:34 - cmdstanpy - INFO - Chain [1] start processing\n",
      "22:12:37 - cmdstanpy - INFO - Chain [1] done processing\n"
     ]
    },
    {
     "data": {
      "image/png": "[encoded data removed]",
      "text/plain": [
       "<Figure size 1200x500 with 1 Axes>"
      ]
     },
     "metadata": {},
     "output_type": "display_data"
    },
    {
     "name": "stdout",
     "output_type": "stream",
     "text": [
      "\n",
      " Running Prophet for Scheme: 103140\n"
     ]
    },
    {
     "name": "stderr",
     "output_type": "stream",
     "text": [
      "22:12:39 - cmdstanpy - INFO - Chain [1] start processing\n",
      "22:12:43 - cmdstanpy - INFO - Chain [1] done processing\n"
     ]
    },
    {
     "name": "stdout",
     "output_type": "stream",
     "text": [
      "\n",
      " Running Prophet for Scheme: 102012\n"
     ]
    },
    {
     "name": "stderr",
     "output_type": "stream",
     "text": [
      "22:12:45 - cmdstanpy - INFO - Chain [1] start processing\n",
      "22:12:47 - cmdstanpy - INFO - Chain [1] done processing\n"
     ]
    },
    {
     "name": "stdout",
     "output_type": "stream",
     "text": [
      "\n",
      " Running Prophet for Scheme: 102008\n"
     ]
    },
    {
     "name": "stderr",
     "output_type": "stream",
     "text": [
      "22:12:50 - cmdstanpy - INFO - Chain [1] start processing\n",
      "22:12:51 - cmdstanpy - INFO - Chain [1] done processing\n"
     ]
    },
    {
     "name": "stdout",
     "output_type": "stream",
     "text": [
      "\n",
      " Running Prophet for Scheme: 102009\n"
     ]
    },
    {
     "name": "stderr",
     "output_type": "stream",
     "text": [
      "22:12:53 - cmdstanpy - INFO - Chain [1] start processing\n",
      "22:12:55 - cmdstanpy - INFO - Chain [1] done processing\n"
     ]
    }
   ],
   "source": [
    "results_prophet = []\n",
    "prophet_forecasts = {}\n",
    "\n",
    "for code in top_5_schemes:\n",
    "    print(f\"\\n Running Prophet for Scheme: {code}\")\n",
    "    scheme_df = df[df['Scheme_Code'] == code].sort_values('Date')\n",
    "\n",
    "    try:\n",
    "        y_true, y_pred, rmse, mae, model, full_forecast = run_prophet_forecast(scheme_df)\n",
    "\n",
    "        # Save results\n",
    "        prophet_forecasts[code] = {\n",
    "            'y_test': y_true,\n",
    "            'y_pred': y_pred,\n",
    "            'rmse': rmse,\n",
    "            'mae': mae\n",
    "        }\n",
    "\n",
    "        results_prophet.append({\n",
    "            'Scheme_Code': code,\n",
    "            'RMSE': rmse,\n",
    "            'MAE': mae\n",
    "        })\n",
    "\n",
    "        # Plot only first scheme\n",
    "        if code == top_5_schemes[0]:\n",
    "            plt.figure(figsize=(12, 5))\n",
    "            plt.plot(y_true, label='Actual')\n",
    "            plt.plot(y_pred, label='Forecast', linestyle='--')\n",
    "            plt.title(f'📈 Prophet Forecast - Scheme {code}')\n",
    "            plt.legend()\n",
    "            plt.grid(True)\n",
    "            plt.tight_layout()\n",
    "            plt.show()\n",
    "\n",
    "    except Exception as e:\n",
    "        print(f\" Error with Prophet for {code}: {e}\")\n"
   ]
  },
  {
   "cell_type": "code",
   "execution_count": 54,
   "id": "82592c66-7d50-4ff7-8831-621405f34b26",
   "metadata": {},
   "outputs": [
    {
     "name": "stdout",
     "output_type": "stream",
     "text": [
      "\n",
      " Prophet Leaderboard:\n"
     ]
    },
    {
     "data": {
      "text/html": [
       "<div>\n",
       "<style scoped>\n",
       "    .dataframe tbody tr th:only-of-type {\n",
       "        vertical-align: middle;\n",
       "    }\n",
       "\n",
       "    .dataframe tbody tr th {\n",
       "        vertical-align: top;\n",
       "    }\n",
       "\n",
       "    .dataframe thead th {\n",
       "        text-align: right;\n",
       "    }\n",
       "</style>\n",
       "<table border=\"1\" class=\"dataframe\">\n",
       "  <thead>\n",
       "    <tr style=\"text-align: right;\">\n",
       "      <th></th>\n",
       "      <th>Scheme_Code</th>\n",
       "      <th>RMSE</th>\n",
       "      <th>MAE</th>\n",
       "    </tr>\n",
       "  </thead>\n",
       "  <tbody>\n",
       "    <tr>\n",
       "      <th>2</th>\n",
       "      <td>102012</td>\n",
       "      <td>0.010391</td>\n",
       "      <td>0.009276</td>\n",
       "    </tr>\n",
       "    <tr>\n",
       "      <th>4</th>\n",
       "      <td>102009</td>\n",
       "      <td>0.013123</td>\n",
       "      <td>0.011564</td>\n",
       "    </tr>\n",
       "    <tr>\n",
       "      <th>0</th>\n",
       "      <td>101206</td>\n",
       "      <td>0.013278</td>\n",
       "      <td>0.010946</td>\n",
       "    </tr>\n",
       "    <tr>\n",
       "      <th>1</th>\n",
       "      <td>103140</td>\n",
       "      <td>0.060047</td>\n",
       "      <td>0.046679</td>\n",
       "    </tr>\n",
       "    <tr>\n",
       "      <th>3</th>\n",
       "      <td>102008</td>\n",
       "      <td>0.417018</td>\n",
       "      <td>0.340680</td>\n",
       "    </tr>\n",
       "  </tbody>\n",
       "</table>\n",
       "</div>"
      ],
      "text/plain": [
       "   Scheme_Code      RMSE       MAE\n",
       "2       102012  0.010391  0.009276\n",
       "4       102009  0.013123  0.011564\n",
       "0       101206  0.013278  0.010946\n",
       "1       103140  0.060047  0.046679\n",
       "3       102008  0.417018  0.340680"
      ]
     },
     "metadata": {},
     "output_type": "display_data"
    }
   ],
   "source": [
    "results_prophet_df = pd.DataFrame(results_prophet).sort_values(by='RMSE')\n",
    "print(\"\\n Prophet Leaderboard:\")\n",
    "display(results_prophet_df)\n"
   ]
  },
  {
   "cell_type": "markdown",
   "id": "4c80c6b1-3823-43ab-905e-c6e8c92f4c2e",
   "metadata": {},
   "source": [
    "## Compare ARIMA vs LSTM vs Prophet in a single table"
   ]
  },
  {
   "cell_type": "code",
   "execution_count": 55,
   "id": "04963331-a347-4c60-880e-1542e007e990",
   "metadata": {},
   "outputs": [],
   "source": [
    "# Rename Columns for Clarity\n",
    "results_arima = results_df.rename(columns={'RMSE': 'ARIMA_RMSE', 'MAE': 'ARIMA_MAE'})\n",
    "results_lstm = results_lstm_df.rename(columns={'RMSE': 'LSTM_RMSE', 'MAE': 'LSTM_MAE'})\n",
    "results_prophet = results_prophet_df.rename(columns={'RMSE': 'Prophet_RMSE', 'MAE': 'Prophet_MAE'})\n"
   ]
  },
  {
   "cell_type": "code",
   "execution_count": 56,
   "id": "6a2dd0ed-506b-42c2-ae41-32d176769575",
   "metadata": {},
   "outputs": [],
   "source": [
    "# Merge All Three Tables on Scheme_Code\n",
    "\n",
    "comparison_df = results_arima[['Scheme_Code', 'ARIMA_RMSE', 'ARIMA_MAE']] \\\n",
    "    .merge(results_lstm[['Scheme_Code', 'LSTM_RMSE', 'LSTM_MAE']], on='Scheme_Code') \\\n",
    "    .merge(results_prophet[['Scheme_Code', 'Prophet_RMSE', 'Prophet_MAE']], on='Scheme_Code')"
   ]
  },
  {
   "cell_type": "code",
   "execution_count": 57,
   "id": "6601320d-22f0-4e36-950f-0ab36f4cc96d",
   "metadata": {},
   "outputs": [],
   "source": [
    "# Sort by RMSE\n",
    "\n",
    "comparison_df = comparison_df.sort_values(by='ARIMA_RMSE')"
   ]
  },
  {
   "cell_type": "code",
   "execution_count": 58,
   "id": "b8f5ee5c-e23a-41cb-ba16-51372946f0ac",
   "metadata": {},
   "outputs": [
    {
     "name": "stdout",
     "output_type": "stream",
     "text": [
      " Model Comparison Across Top 5 Schemes:\n"
     ]
    },
    {
     "data": {
      "text/html": [
       "<div>\n",
       "<style scoped>\n",
       "    .dataframe tbody tr th:only-of-type {\n",
       "        vertical-align: middle;\n",
       "    }\n",
       "\n",
       "    .dataframe tbody tr th {\n",
       "        vertical-align: top;\n",
       "    }\n",
       "\n",
       "    .dataframe thead th {\n",
       "        text-align: right;\n",
       "    }\n",
       "</style>\n",
       "<table border=\"1\" class=\"dataframe\">\n",
       "  <thead>\n",
       "    <tr style=\"text-align: right;\">\n",
       "      <th></th>\n",
       "      <th>Scheme_Code</th>\n",
       "      <th>ARIMA_RMSE</th>\n",
       "      <th>ARIMA_MAE</th>\n",
       "      <th>LSTM_RMSE</th>\n",
       "      <th>LSTM_MAE</th>\n",
       "      <th>Prophet_RMSE</th>\n",
       "      <th>Prophet_MAE</th>\n",
       "    </tr>\n",
       "  </thead>\n",
       "  <tbody>\n",
       "    <tr>\n",
       "      <th>0</th>\n",
       "      <td>103140</td>\n",
       "      <td>0.055611</td>\n",
       "      <td>0.042457</td>\n",
       "      <td>0.010989</td>\n",
       "      <td>0.007837</td>\n",
       "      <td>0.060047</td>\n",
       "      <td>0.046679</td>\n",
       "    </tr>\n",
       "    <tr>\n",
       "      <th>1</th>\n",
       "      <td>101206</td>\n",
       "      <td>0.074520</td>\n",
       "      <td>0.064020</td>\n",
       "      <td>0.017000</td>\n",
       "      <td>0.015993</td>\n",
       "      <td>0.013278</td>\n",
       "      <td>0.010946</td>\n",
       "    </tr>\n",
       "    <tr>\n",
       "      <th>2</th>\n",
       "      <td>102009</td>\n",
       "      <td>0.124912</td>\n",
       "      <td>0.110629</td>\n",
       "      <td>0.030250</td>\n",
       "      <td>0.025921</td>\n",
       "      <td>0.013123</td>\n",
       "      <td>0.011564</td>\n",
       "    </tr>\n",
       "    <tr>\n",
       "      <th>3</th>\n",
       "      <td>102008</td>\n",
       "      <td>0.466392</td>\n",
       "      <td>0.391786</td>\n",
       "      <td>0.011130</td>\n",
       "      <td>0.007961</td>\n",
       "      <td>0.417018</td>\n",
       "      <td>0.340680</td>\n",
       "    </tr>\n",
       "  </tbody>\n",
       "</table>\n",
       "</div>"
      ],
      "text/plain": [
       "   Scheme_Code  ARIMA_RMSE  ARIMA_MAE  LSTM_RMSE  LSTM_MAE  Prophet_RMSE  \\\n",
       "0       103140    0.055611   0.042457   0.010989  0.007837      0.060047   \n",
       "1       101206    0.074520   0.064020   0.017000  0.015993      0.013278   \n",
       "2       102009    0.124912   0.110629   0.030250  0.025921      0.013123   \n",
       "3       102008    0.466392   0.391786   0.011130  0.007961      0.417018   \n",
       "\n",
       "   Prophet_MAE  \n",
       "0     0.046679  \n",
       "1     0.010946  \n",
       "2     0.011564  \n",
       "3     0.340680  "
      ]
     },
     "metadata": {},
     "output_type": "display_data"
    }
   ],
   "source": [
    "# Display Final Comparison Table\n",
    "\n",
    "print(\" Model Comparison Across Top 5 Schemes:\")\n",
    "display(comparison_df)"
   ]
  },
  {
   "cell_type": "code",
   "execution_count": 59,
   "id": "a4eaf3b2-059e-4e00-b1d2-01ecff053ae5",
   "metadata": {},
   "outputs": [
    {
     "data": {
      "text/plain": [
       "0       LSTM_RMSE\n",
       "1    Prophet_RMSE\n",
       "2    Prophet_RMSE\n",
       "3       LSTM_RMSE\n",
       "Name: Best_Model, dtype: object"
      ]
     },
     "execution_count": 59,
     "metadata": {},
     "output_type": "execute_result"
    }
   ],
   "source": [
    "# Who Wins Per Scheme?\n",
    "\n",
    "comparison_df['Best_Model'] = comparison_df[['ARIMA_RMSE', 'LSTM_RMSE', 'Prophet_RMSE']].idxmin(axis=1)\n",
    "comparison_df['Best_Model']"
   ]
  },
  {
   "cell_type": "markdown",
   "id": "27a32655-432f-4b8e-a85f-a1cf385fda67",
   "metadata": {},
   "source": [
    "# Cluster Mutual Funds Using K-Means"
   ]
  },
  {
   "cell_type": "code",
   "execution_count": 60,
   "id": "8eb07e5e-1870-4534-b0fc-a0519c76b2bb",
   "metadata": {},
   "outputs": [],
   "source": [
    "from sklearn.cluster import KMeans\n",
    "from sklearn.preprocessing import StandardScaler\n",
    "from sklearn.decomposition import PCA\n",
    "import matplotlib.pyplot as plt\n"
   ]
  },
  {
   "cell_type": "code",
   "execution_count": 61,
   "id": "b563be50-e901-4770-9718-4005ab39485b",
   "metadata": {},
   "outputs": [
    {
     "name": "stdout",
     "output_type": "stream",
     "text": [
      " Aggregated feature shape: (34177, 6)\n"
     ]
    },
    {
     "data": {
      "text/html": [
       "<div>\n",
       "<style scoped>\n",
       "    .dataframe tbody tr th:only-of-type {\n",
       "        vertical-align: middle;\n",
       "    }\n",
       "\n",
       "    .dataframe tbody tr th {\n",
       "        vertical-align: top;\n",
       "    }\n",
       "\n",
       "    .dataframe thead th {\n",
       "        text-align: right;\n",
       "    }\n",
       "</style>\n",
       "<table border=\"1\" class=\"dataframe\">\n",
       "  <thead>\n",
       "    <tr style=\"text-align: right;\">\n",
       "      <th></th>\n",
       "      <th>NAV_mean</th>\n",
       "      <th>NAV_std</th>\n",
       "      <th>NAV_min</th>\n",
       "      <th>NAV_max</th>\n",
       "      <th>NAV_scaled_mean</th>\n",
       "      <th>NAV_scaled_std</th>\n",
       "    </tr>\n",
       "    <tr>\n",
       "      <th>Scheme_Code</th>\n",
       "      <th></th>\n",
       "      <th></th>\n",
       "      <th></th>\n",
       "      <th></th>\n",
       "      <th></th>\n",
       "      <th></th>\n",
       "    </tr>\n",
       "  </thead>\n",
       "  <tbody>\n",
       "    <tr>\n",
       "      <th>100027</th>\n",
       "      <td>10.449669</td>\n",
       "      <td>0.271592</td>\n",
       "      <td>10.0774</td>\n",
       "      <td>11.0823</td>\n",
       "      <td>0.370454</td>\n",
       "      <td>0.270267</td>\n",
       "    </tr>\n",
       "    <tr>\n",
       "      <th>100028</th>\n",
       "      <td>10.359527</td>\n",
       "      <td>0.200754</td>\n",
       "      <td>10.0133</td>\n",
       "      <td>10.7316</td>\n",
       "      <td>0.482009</td>\n",
       "      <td>0.279485</td>\n",
       "    </tr>\n",
       "    <tr>\n",
       "      <th>100029</th>\n",
       "      <td>17.276039</td>\n",
       "      <td>0.896673</td>\n",
       "      <td>16.0552</td>\n",
       "      <td>18.9816</td>\n",
       "      <td>0.417181</td>\n",
       "      <td>0.306408</td>\n",
       "    </tr>\n",
       "    <tr>\n",
       "      <th>100030</th>\n",
       "      <td>10.561932</td>\n",
       "      <td>0.325936</td>\n",
       "      <td>10.0899</td>\n",
       "      <td>11.3240</td>\n",
       "      <td>0.382491</td>\n",
       "      <td>0.264108</td>\n",
       "    </tr>\n",
       "    <tr>\n",
       "      <th>100031</th>\n",
       "      <td>10.068503</td>\n",
       "      <td>0.045612</td>\n",
       "      <td>9.9900</td>\n",
       "      <td>10.2823</td>\n",
       "      <td>0.268571</td>\n",
       "      <td>0.156045</td>\n",
       "    </tr>\n",
       "  </tbody>\n",
       "</table>\n",
       "</div>"
      ],
      "text/plain": [
       "              NAV_mean   NAV_std  NAV_min  NAV_max  NAV_scaled_mean  \\\n",
       "Scheme_Code                                                           \n",
       "100027       10.449669  0.271592  10.0774  11.0823         0.370454   \n",
       "100028       10.359527  0.200754  10.0133  10.7316         0.482009   \n",
       "100029       17.276039  0.896673  16.0552  18.9816         0.417181   \n",
       "100030       10.561932  0.325936  10.0899  11.3240         0.382491   \n",
       "100031       10.068503  0.045612   9.9900  10.2823         0.268571   \n",
       "\n",
       "             NAV_scaled_std  \n",
       "Scheme_Code                  \n",
       "100027             0.270267  \n",
       "100028             0.279485  \n",
       "100029             0.306408  \n",
       "100030             0.264108  \n",
       "100031             0.156045  "
      ]
     },
     "execution_count": 61,
     "metadata": {},
     "output_type": "execute_result"
    }
   ],
   "source": [
    "# Prepare Features for Clustering\n",
    "# Group by Scheme_Code and compute meaningful stats\n",
    "\n",
    "# Aggregated fund-level features\n",
    "features_df = df.groupby('Scheme_Code').agg({\n",
    "    'NAV': ['mean', 'std', 'min', 'max'],\n",
    "    'NAV_scaled': ['mean', 'std']\n",
    "})\n",
    "\n",
    "# Flatten MultiIndex columns\n",
    "features_df.columns = ['_'.join(col) for col in features_df.columns]\n",
    "features_df.dropna(inplace=True)\n",
    "\n",
    "print(\" Aggregated feature shape:\", features_df.shape)\n",
    "features_df.head()\n"
   ]
  },
  {
   "cell_type": "code",
   "execution_count": 62,
   "id": "251efd33-bc5b-4cf3-ab8c-8c2b407b436a",
   "metadata": {},
   "outputs": [],
   "source": [
    "# Scale Features\n",
    "\n",
    "scaler = StandardScaler()\n",
    "X_scaled = scaler.fit_transform(features_df)"
   ]
  },
  {
   "cell_type": "code",
   "execution_count": 63,
   "id": "ccb03010-7b81-4879-8695-4ab2f6e89d28",
   "metadata": {},
   "outputs": [
    {
     "data": {
      "image/png": "[encoded data removed]",
      "text/plain": [
       "<Figure size 800x400 with 1 Axes>"
      ]
     },
     "metadata": {},
     "output_type": "display_data"
    }
   ],
   "source": [
    "from sklearn.cluster import KMeans\n",
    "import matplotlib.pyplot as plt\n",
    "\n",
    "wcss = []\n",
    "K_range = range(2, 11)  # Try k from 2 to 10\n",
    "\n",
    "for k in K_range:\n",
    "    model = KMeans(n_clusters=k, random_state=42)\n",
    "    model.fit(X_scaled)\n",
    "    wcss.append(model.inertia_)  # inertia_ is total within-cluster sum of squares\n",
    "\n",
    "# Plot the elbow\n",
    "plt.figure(figsize=(8, 4))\n",
    "plt.plot(K_range, wcss, marker='o')\n",
    "plt.title('Elbow Method For Optimal k')\n",
    "plt.xlabel('Number of Clusters (k)')\n",
    "plt.ylabel('WCSS')\n",
    "plt.grid(True)\n",
    "plt.tight_layout()\n",
    "plt.show()\n"
   ]
  },
  {
   "cell_type": "code",
   "execution_count": 64,
   "id": "a265ed7c-dcab-4e67-87af-e415feb4f061",
   "metadata": {},
   "outputs": [],
   "source": [
    "# Apply K-Means Clustering\n",
    "\n",
    "k = 4  # you can tune this later\n",
    "kmeans = KMeans(n_clusters=k, random_state=42)\n",
    "clusters = kmeans.fit_predict(X_scaled)\n",
    "\n",
    "features_df['Cluster'] = clusters"
   ]
  },
  {
   "cell_type": "code",
   "execution_count": 65,
   "id": "c27aa031-4701-466f-a40d-8dda2b49cb41",
   "metadata": {},
   "outputs": [
    {
     "data": {
      "image/png": "[encoded data removed]",
      "text/plain": [
       "<Figure size 1000x600 with 1 Axes>"
      ]
     },
     "metadata": {},
     "output_type": "display_data"
    }
   ],
   "source": [
    "# Visualize Clusters using PCA\n",
    "\n",
    "pca = PCA(n_components=2)\n",
    "pca_components = pca.fit_transform(X_scaled)\n",
    "\n",
    "plt.figure(figsize=(10, 6))\n",
    "plt.scatter(pca_components[:, 0], pca_components[:, 1], c=clusters, cmap='Set1', s=50)\n",
    "plt.title(' K-Means Clustering of Mutual Funds (PCA View)')\n",
    "plt.xlabel('PCA 1')\n",
    "plt.ylabel('PCA 2')\n",
    "plt.grid(True)\n",
    "plt.show()"
   ]
  }
 ],
 "metadata": {
  "kernelspec": {
   "display_name": "Python 3 (ipykernel)",
   "language": "python",
   "name": "python3"
  },
  "language_info": {
   "codemirror_mode": {
    "name": "ipython",
    "version": 3
   },
   "file_extension": ".py",
   "mimetype": "text/x-python",
   "name": "python",
   "nbconvert_exporter": "python",
   "pygments_lexer": "ipython3",
   "version": "3.12.7"
  }
 },
 "nbformat": 4,
 "nbformat_minor": 5
}
