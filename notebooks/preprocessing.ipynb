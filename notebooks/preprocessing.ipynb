{
 "cells": [
  {
   "cell_type": "code",
   "execution_count": 30,
   "id": "c0e6f625-a2c3-49a9-80cf-f9ca1c143d1e",
   "metadata": {},
   "outputs": [
    {
     "name": "stdout",
     "output_type": "stream",
     "text": [
      "Preprocessed full dataset saved to: C:/Users/BALA/OneDrive - University of Hertfordshire/Desktop/mutual-fund-recommender/data/processed/preprocessed_mutual_funds.csv\n",
      "Top 5 scheme NAV data saved to: data/processed/top5_scheme_data.csv\n"
     ]
    }
   ],
   "source": [
    "import pandas as pd\n",
    "import os\n",
    "\n",
    "def preprocess_mutual_fund_data(input_path: str, output_path: str, n_rows: int = 1000000):\n",
    "    # Step 1: Load dataset\n",
    "    df = pd.read_csv(input_path, nrows=n_rows)\n",
    "\n",
    "    # Step 2: Drop rows with missing NAV or Date\n",
    "    df.dropna(subset=[\"NAV\", \"Date\"], inplace=True)\n",
    "\n",
    "    # Step 3: Convert Date and filter after 2016\n",
    "    df['Date'] = pd.to_datetime(df['Date'], format='%d-%m-%Y', errors='coerce')\n",
    "    df.dropna(subset=[\"Date\"], inplace=True)\n",
    "    df = df[df['Date'] >= pd.to_datetime(\"2016-01-01\")]\n",
    "\n",
    "    # Step 4: Sort by Scheme_Code and Date\n",
    "    df.sort_values(by=[\"Scheme_Code\", \"Date\"], inplace=True)\n",
    "\n",
    "    # Step 5: Keep schemes with sufficient data\n",
    "    valid_schemes = df[\"Scheme_Code\"].value_counts()\n",
    "    keep_schemes = valid_schemes[valid_schemes >= 100].index\n",
    "    df = df[df[\"Scheme_Code\"].isin(keep_schemes)]\n",
    "\n",
    "    # Step 6: Save cleaned dataset\n",
    "    os.makedirs(os.path.dirname(output_path), exist_ok=True)\n",
    "    df.to_csv(output_path, index=False)\n",
    "    print(f\"Preprocessed full dataset saved to: {output_path}\")\n",
    "    return df\n",
    "\n",
    "# --- Main Processing ---\n",
    "\n",
    "# Run preprocessing\n",
    "df = preprocess_mutual_fund_data(\n",
    "    input_path=r\"C:/Users/BALA/OneDrive - University of Hertfordshire/Desktop/mutual-fund-recommender/data/raw/Mutual_Funds.csv\",\n",
    "    output_path=r\"C:/Users/BALA/OneDrive - University of Hertfordshire/Desktop/mutual-fund-recommender/data/processed/preprocessed_mutual_funds.csv\"\n",
    ")\n",
    "\n",
    "# Step 7: Group and filter to find top 5 unique Fund_Houses\n",
    "scheme_counts = df['Scheme_Code'].value_counts()\n",
    "valid_schemes = scheme_counts[scheme_counts >= 100].index\n",
    "filtered_df = df[df['Scheme_Code'].isin(valid_schemes)]\n",
    "\n",
    "# Step 8: Create summary and select top 5 per unique Fund_House\n",
    "scheme_summary = (\n",
    "    filtered_df.groupby('Scheme_Code')\n",
    "    .agg(Fund_House=('Fund_House', 'first'), Row_Count=('NAV', 'count'))\n",
    "    .reset_index()\n",
    ")\n",
    "\n",
    "top_5_schemes = (\n",
    "    scheme_summary.sort_values(by='Row_Count', ascending=False)\n",
    "    .drop_duplicates(subset='Fund_House')\n",
    "    .head(5)\n",
    ")\n",
    "\n",
    "# Step 9: Filter full data for selected Scheme_Codes\n",
    "top_05_unique_df = filtered_df[filtered_df['Scheme_Code'].isin(top_5_schemes['Scheme_Code'])]\n",
    "\n",
    "# Step 10: Save selected NAV data for modeling\n",
    "os.makedirs(\"data/processed\", exist_ok=True)\n",
    "top_05_unique_df[\n",
    "    ['Fund_House', 'Scheme_Type', 'Scheme_Category', 'Scheme_Code', 'Scheme_Name', 'Date', 'NAV']\n",
    "].to_csv(\"C:/Users/BALA/OneDrive - University of Hertfordshire/Desktop/mutual-fund-recommender/data/processed/top5_scheme_data.csv\", index=False)\n",
    "\n",
    "print(\"Top 5 scheme NAV data saved to: data/processed/top5_scheme_data.csv\")\n"
   ]
  },
  {
   "cell_type": "code",
   "execution_count": 31,
   "id": "e6abb7df-bc5a-4e55-b491-cab5441d1911",
   "metadata": {},
   "outputs": [
    {
     "name": "stdout",
     "output_type": "stream",
     "text": [
      "Saved: top5_scheme_summary.csv\n"
     ]
    }
   ],
   "source": [
    "summary_df = (\n",
    "    filtered_df.groupby('Scheme_Code')\n",
    "    .agg({\n",
    "        'Fund_House': 'first',\n",
    "        'Scheme_Type': 'first',\n",
    "        'Scheme_Category': 'first',\n",
    "        'Scheme_Name': 'first',\n",
    "        'NAV': 'count'\n",
    "    })\n",
    "    .rename(columns={'NAV': 'Row_Count'})\n",
    "    .reset_index()\n",
    ")\n",
    "\n",
    "# Sort and pick top 5 per unique Fund_House\n",
    "top_summary = (\n",
    "    summary_df.sort_values(by='Row_Count', ascending=False)\n",
    "    .drop_duplicates(subset='Fund_House')\n",
    "    .head(5)\n",
    ")\n",
    "\n",
    "# Save one-row-per-scheme summary\n",
    "top_summary.to_csv(\"C:/Users/BALA/OneDrive - University of Hertfordshire/Desktop/mutual-fund-recommender/data/processed/top5_scheme_summary.csv\", index=False)\n",
    "print(\"Saved: top5_scheme_summary.csv\")\n"
   ]
  },
  {
   "cell_type": "code",
   "execution_count": null,
   "id": "9f6a59f6-7a21-418d-9350-3219f68960b3",
   "metadata": {},
   "outputs": [],
   "source": []
  }
 ],
 "metadata": {
  "kernelspec": {
   "display_name": "Python 3 (ipykernel)",
   "language": "python",
   "name": "python3"
  },
  "language_info": {
   "codemirror_mode": {
    "name": "ipython",
    "version": 3
   },
   "file_extension": ".py",
   "mimetype": "text/x-python",
   "name": "python",
   "nbconvert_exporter": "python",
   "pygments_lexer": "ipython3",
   "version": "3.12.7"
  }
 },
 "nbformat": 4,
 "nbformat_minor": 5
}
