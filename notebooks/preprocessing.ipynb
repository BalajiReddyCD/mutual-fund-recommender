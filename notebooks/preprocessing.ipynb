{
 "cells": [
  {
   "cell_type": "code",
   "execution_count": 3,
   "id": "95904abb",
   "metadata": {
    "vscode": {
     "languageId": "plaintext"
    }
   },
   "outputs": [
    {
     "name": "stdout",
     "output_type": "stream",
     "text": [
      "Loaded dataset with shape: (29033646, 7)\n"
     ]
    },
    {
     "data": {
      "text/html": [
       "<div>\n",
       "<style scoped>\n",
       "    .dataframe tbody tr th:only-of-type {\n",
       "        vertical-align: middle;\n",
       "    }\n",
       "\n",
       "    .dataframe tbody tr th {\n",
       "        vertical-align: top;\n",
       "    }\n",
       "\n",
       "    .dataframe thead th {\n",
       "        text-align: right;\n",
       "    }\n",
       "</style>\n",
       "<table border=\"1\" class=\"dataframe\">\n",
       "  <thead>\n",
       "    <tr style=\"text-align: right;\">\n",
       "      <th></th>\n",
       "      <th>Fund_House</th>\n",
       "      <th>Scheme_Type</th>\n",
       "      <th>Scheme_Category</th>\n",
       "      <th>Scheme_Code</th>\n",
       "      <th>Scheme_Name</th>\n",
       "      <th>Date</th>\n",
       "      <th>NAV</th>\n",
       "    </tr>\n",
       "  </thead>\n",
       "  <tbody>\n",
       "    <tr>\n",
       "      <th>0</th>\n",
       "      <td>Standard Chartered Mutual Fund</td>\n",
       "      <td>Open Ended Schemes</td>\n",
       "      <td>Income</td>\n",
       "      <td>100027</td>\n",
       "      <td>Grindlays Super Saver Income Fund-GSSIF-Half Y...</td>\n",
       "      <td>29-05-2008</td>\n",
       "      <td>10.7205</td>\n",
       "    </tr>\n",
       "    <tr>\n",
       "      <th>1</th>\n",
       "      <td>Standard Chartered Mutual Fund</td>\n",
       "      <td>Open Ended Schemes</td>\n",
       "      <td>Income</td>\n",
       "      <td>100027</td>\n",
       "      <td>Grindlays Super Saver Income Fund-GSSIF-Half Y...</td>\n",
       "      <td>28-05-2008</td>\n",
       "      <td>10.7250</td>\n",
       "    </tr>\n",
       "    <tr>\n",
       "      <th>2</th>\n",
       "      <td>Standard Chartered Mutual Fund</td>\n",
       "      <td>Open Ended Schemes</td>\n",
       "      <td>Income</td>\n",
       "      <td>100027</td>\n",
       "      <td>Grindlays Super Saver Income Fund-GSSIF-Half Y...</td>\n",
       "      <td>27-05-2008</td>\n",
       "      <td>10.7216</td>\n",
       "    </tr>\n",
       "    <tr>\n",
       "      <th>3</th>\n",
       "      <td>Standard Chartered Mutual Fund</td>\n",
       "      <td>Open Ended Schemes</td>\n",
       "      <td>Income</td>\n",
       "      <td>100027</td>\n",
       "      <td>Grindlays Super Saver Income Fund-GSSIF-Half Y...</td>\n",
       "      <td>26-05-2008</td>\n",
       "      <td>10.7206</td>\n",
       "    </tr>\n",
       "    <tr>\n",
       "      <th>4</th>\n",
       "      <td>Standard Chartered Mutual Fund</td>\n",
       "      <td>Open Ended Schemes</td>\n",
       "      <td>Income</td>\n",
       "      <td>100027</td>\n",
       "      <td>Grindlays Super Saver Income Fund-GSSIF-Half Y...</td>\n",
       "      <td>23-05-2008</td>\n",
       "      <td>10.7152</td>\n",
       "    </tr>\n",
       "  </tbody>\n",
       "</table>\n",
       "</div>"
      ],
      "text/plain": [
       "                       Fund_House         Scheme_Type Scheme_Category  \\\n",
       "0  Standard Chartered Mutual Fund  Open Ended Schemes          Income   \n",
       "1  Standard Chartered Mutual Fund  Open Ended Schemes          Income   \n",
       "2  Standard Chartered Mutual Fund  Open Ended Schemes          Income   \n",
       "3  Standard Chartered Mutual Fund  Open Ended Schemes          Income   \n",
       "4  Standard Chartered Mutual Fund  Open Ended Schemes          Income   \n",
       "\n",
       "   Scheme_Code                                        Scheme_Name        Date  \\\n",
       "0       100027  Grindlays Super Saver Income Fund-GSSIF-Half Y...  29-05-2008   \n",
       "1       100027  Grindlays Super Saver Income Fund-GSSIF-Half Y...  28-05-2008   \n",
       "2       100027  Grindlays Super Saver Income Fund-GSSIF-Half Y...  27-05-2008   \n",
       "3       100027  Grindlays Super Saver Income Fund-GSSIF-Half Y...  26-05-2008   \n",
       "4       100027  Grindlays Super Saver Income Fund-GSSIF-Half Y...  23-05-2008   \n",
       "\n",
       "       NAV  \n",
       "0  10.7205  \n",
       "1  10.7250  \n",
       "2  10.7216  \n",
       "3  10.7206  \n",
       "4  10.7152  "
      ]
     },
     "execution_count": 3,
     "metadata": {},
     "output_type": "execute_result"
    }
   ],
   "source": [
    "import pandas as pd\n",
    "from sklearn.preprocessing import MinMaxScaler\n",
    "\n",
    "# Define relative path\n",
    "data_path = r\"C:/Users/BALA/OneDrive - University of Hertfordshire/Desktop/mutual-fund-recommender/data/raw/Mutual_Funds.csv\"\n",
    "\n",
    "# Load data\n",
    "df = pd.read_csv(data_path)\n",
    "print(\"Loaded dataset with shape:\", df.shape)\n",
    "df.head()\n"
   ]
  },
  {
   "cell_type": "code",
   "execution_count": 4,
   "id": "7262ebe0-d050-4575-a198-5e46e7a949bc",
   "metadata": {},
   "outputs": [],
   "source": [
    "# Convert 'Date' to datetime and drop invalid ones\n",
    "df['Date'] = pd.to_datetime(df['Date'], format='%d-%m-%Y', errors='coerce')\n",
    "df = df.dropna(subset=['Date'])\n",
    "\n",
    "# Sort by Scheme_Code and Date\n",
    "df = df.sort_values(['Scheme_Code', 'Date']).reset_index(drop=True)\n"
   ]
  },
  {
   "cell_type": "code",
   "execution_count": 5,
   "id": "1b400290-08de-4730-862a-c4ac75e68e65",
   "metadata": {},
   "outputs": [
    {
     "name": "stdout",
     "output_type": "stream",
     "text": [
      "After cleaning, data shape: (29033646, 7)\n"
     ]
    }
   ],
   "source": [
    "# Convert NAV to numeric\n",
    "df['NAV'] = pd.to_numeric(df['NAV'], errors='coerce')\n",
    "df = df.dropna(subset=['NAV'])\n",
    "\n",
    "print(\"After cleaning, data shape:\", df.shape)\n"
   ]
  },
  {
   "cell_type": "code",
   "execution_count": 11,
   "id": "a4cf76ae-3299-49ba-b6d1-286204a18139",
   "metadata": {},
   "outputs": [
    {
     "name": "stderr",
     "output_type": "stream",
     "text": [
      "C:\\Users\\BALA\\AppData\\Local\\Temp\\ipykernel_24804\\4266552605.py:15: DeprecationWarning: DataFrameGroupBy.apply operated on the grouping columns. This behavior is deprecated, and in a future version of pandas the grouping columns will be excluded from the operation. Either pass `include_groups=False` to exclude the groupings or explicitly select the grouping columns after groupby to silence this warning.\n",
      "  df_scaled = df.groupby('Scheme_Code', group_keys=False, observed=True).apply(\n"
     ]
    },
    {
     "name": "stdout",
     "output_type": "stream",
     "text": [
      " Scaling complete. Data shape: (29033646, 8)\n"
     ]
    }
   ],
   "source": [
    "import numpy as np\n",
    "\n",
    "# Initialize empty column for scaled NAV\n",
    "df['NAV_scaled'] = np.nan\n",
    "\n",
    "# Group by Scheme_Code and scale NAV using transform\n",
    "def scale_nav(group):\n",
    "    scaler = MinMaxScaler()\n",
    "    group = group.copy()\n",
    "    group['NAV_scaled'] = scaler.fit_transform(group[['NAV']])\n",
    "    group['Scheme_Code'] = group['Scheme_Code'].iloc[0]  # Re-assign explicitly\n",
    "    return group\n",
    "\n",
    "# Keep Scheme_Code in the group (default behavior)\n",
    "df_scaled = df.groupby('Scheme_Code', group_keys=False, observed=True).apply(\n",
    "    scale_nav\n",
    ").reset_index(drop=True)\n",
    "\n",
    "print(\" Scaling complete. Data shape:\", df_scaled.shape)\n"
   ]
  },
  {
   "cell_type": "code",
   "execution_count": 12,
   "id": "9014b291-79bf-4cf3-8a34-b340e26a242e",
   "metadata": {},
   "outputs": [
    {
     "name": "stdout",
     "output_type": "stream",
     "text": [
      " Preprocessed data saved to: C:/Users/BALA/OneDrive - University of Hertfordshire/Desktop/mutual-fund-recommender/data/processed/preprocessed_mutual_funds.csv\n"
     ]
    },
    {
     "data": {
      "text/html": [
       "<div>\n",
       "<style scoped>\n",
       "    .dataframe tbody tr th:only-of-type {\n",
       "        vertical-align: middle;\n",
       "    }\n",
       "\n",
       "    .dataframe tbody tr th {\n",
       "        vertical-align: top;\n",
       "    }\n",
       "\n",
       "    .dataframe thead th {\n",
       "        text-align: right;\n",
       "    }\n",
       "</style>\n",
       "<table border=\"1\" class=\"dataframe\">\n",
       "  <thead>\n",
       "    <tr style=\"text-align: right;\">\n",
       "      <th></th>\n",
       "      <th>Fund_House</th>\n",
       "      <th>Scheme_Type</th>\n",
       "      <th>Scheme_Category</th>\n",
       "      <th>Scheme_Code</th>\n",
       "      <th>Scheme_Name</th>\n",
       "      <th>Date</th>\n",
       "      <th>NAV</th>\n",
       "      <th>NAV_scaled</th>\n",
       "    </tr>\n",
       "  </thead>\n",
       "  <tbody>\n",
       "    <tr>\n",
       "      <th>0</th>\n",
       "      <td>Standard Chartered Mutual Fund</td>\n",
       "      <td>Open Ended Schemes</td>\n",
       "      <td>Income</td>\n",
       "      <td>100027</td>\n",
       "      <td>Grindlays Super Saver Income Fund-GSSIF-Half Y...</td>\n",
       "      <td>2006-04-03</td>\n",
       "      <td>10.0774</td>\n",
       "      <td>0.000000</td>\n",
       "    </tr>\n",
       "    <tr>\n",
       "      <th>1</th>\n",
       "      <td>Standard Chartered Mutual Fund</td>\n",
       "      <td>Open Ended Schemes</td>\n",
       "      <td>Income</td>\n",
       "      <td>100027</td>\n",
       "      <td>Grindlays Super Saver Income Fund-GSSIF-Half Y...</td>\n",
       "      <td>2006-04-04</td>\n",
       "      <td>10.0796</td>\n",
       "      <td>0.002189</td>\n",
       "    </tr>\n",
       "    <tr>\n",
       "      <th>2</th>\n",
       "      <td>Standard Chartered Mutual Fund</td>\n",
       "      <td>Open Ended Schemes</td>\n",
       "      <td>Income</td>\n",
       "      <td>100027</td>\n",
       "      <td>Grindlays Super Saver Income Fund-GSSIF-Half Y...</td>\n",
       "      <td>2006-04-05</td>\n",
       "      <td>10.0836</td>\n",
       "      <td>0.006170</td>\n",
       "    </tr>\n",
       "    <tr>\n",
       "      <th>3</th>\n",
       "      <td>Standard Chartered Mutual Fund</td>\n",
       "      <td>Open Ended Schemes</td>\n",
       "      <td>Income</td>\n",
       "      <td>100027</td>\n",
       "      <td>Grindlays Super Saver Income Fund-GSSIF-Half Y...</td>\n",
       "      <td>2006-04-07</td>\n",
       "      <td>10.0856</td>\n",
       "      <td>0.008160</td>\n",
       "    </tr>\n",
       "    <tr>\n",
       "      <th>4</th>\n",
       "      <td>Standard Chartered Mutual Fund</td>\n",
       "      <td>Open Ended Schemes</td>\n",
       "      <td>Income</td>\n",
       "      <td>100027</td>\n",
       "      <td>Grindlays Super Saver Income Fund-GSSIF-Half Y...</td>\n",
       "      <td>2006-04-10</td>\n",
       "      <td>10.0906</td>\n",
       "      <td>0.013136</td>\n",
       "    </tr>\n",
       "  </tbody>\n",
       "</table>\n",
       "</div>"
      ],
      "text/plain": [
       "                       Fund_House         Scheme_Type Scheme_Category  \\\n",
       "0  Standard Chartered Mutual Fund  Open Ended Schemes          Income   \n",
       "1  Standard Chartered Mutual Fund  Open Ended Schemes          Income   \n",
       "2  Standard Chartered Mutual Fund  Open Ended Schemes          Income   \n",
       "3  Standard Chartered Mutual Fund  Open Ended Schemes          Income   \n",
       "4  Standard Chartered Mutual Fund  Open Ended Schemes          Income   \n",
       "\n",
       "   Scheme_Code                                        Scheme_Name       Date  \\\n",
       "0       100027  Grindlays Super Saver Income Fund-GSSIF-Half Y... 2006-04-03   \n",
       "1       100027  Grindlays Super Saver Income Fund-GSSIF-Half Y... 2006-04-04   \n",
       "2       100027  Grindlays Super Saver Income Fund-GSSIF-Half Y... 2006-04-05   \n",
       "3       100027  Grindlays Super Saver Income Fund-GSSIF-Half Y... 2006-04-07   \n",
       "4       100027  Grindlays Super Saver Income Fund-GSSIF-Half Y... 2006-04-10   \n",
       "\n",
       "       NAV  NAV_scaled  \n",
       "0  10.0774    0.000000  \n",
       "1  10.0796    0.002189  \n",
       "2  10.0836    0.006170  \n",
       "3  10.0856    0.008160  \n",
       "4  10.0906    0.013136  "
      ]
     },
     "execution_count": 12,
     "metadata": {},
     "output_type": "execute_result"
    }
   ],
   "source": [
    "#Save the Preprocessed CSV\n",
    "output_path = \"C:/Users/BALA/OneDrive - University of Hertfordshire/Desktop/mutual-fund-recommender/data/processed/preprocessed_mutual_funds.csv\"\n",
    "\n",
    "df_scaled.to_csv(output_path, index=False)\n",
    "\n",
    "print(f\" Preprocessed data saved to: {output_path}\")\n",
    "df_scaled.head()\n"
   ]
  },
  {
   "cell_type": "code",
   "execution_count": 13,
   "id": "22ef8172-7cc7-4eb0-a624-e53bad442f93",
   "metadata": {},
   "outputs": [
    {
     "name": "stdout",
     "output_type": "stream",
     "text": [
      "Unique Scheme_Codes: 35354\n",
      "Date Range: 2006-04-01 00:00:00 to 2023-07-23 00:00:00\n"
     ]
    }
   ],
   "source": [
    "print(\"Unique Scheme_Codes:\", df_scaled['Scheme_Code'].nunique())\n",
    "print(\"Date Range:\", df_scaled['Date'].min(), \"to\", df_scaled['Date'].max())\n"
   ]
  },
  {
   "cell_type": "code",
   "execution_count": null,
   "id": "36a2e60a-b2fc-455e-becf-ffedac577c1e",
   "metadata": {},
   "outputs": [],
   "source": []
  }
 ],
 "metadata": {
  "kernelspec": {
   "display_name": "Python 3 (ipykernel)",
   "language": "python",
   "name": "python3"
  },
  "language_info": {
   "codemirror_mode": {
    "name": "ipython",
    "version": 3
   },
   "file_extension": ".py",
   "mimetype": "text/x-python",
   "name": "python",
   "nbconvert_exporter": "python",
   "pygments_lexer": "ipython3",
   "version": "3.12.7"
  }
 },
 "nbformat": 4,
 "nbformat_minor": 5
}
