{
 "cells": [
  {
   "cell_type": "code",
   "execution_count": 2,
   "id": "95904abb",
   "metadata": {
    "vscode": {
     "languageId": "plaintext"
    }
   },
   "outputs": [
    {
     "name": "stdout",
     "output_type": "stream",
     "text": [
      "Loaded: (29033646, 7)\n"
     ]
    },
    {
     "data": {
      "text/html": [
       "<div>\n",
       "<style scoped>\n",
       "    .dataframe tbody tr th:only-of-type {\n",
       "        vertical-align: middle;\n",
       "    }\n",
       "\n",
       "    .dataframe tbody tr th {\n",
       "        vertical-align: top;\n",
       "    }\n",
       "\n",
       "    .dataframe thead th {\n",
       "        text-align: right;\n",
       "    }\n",
       "</style>\n",
       "<table border=\"1\" class=\"dataframe\">\n",
       "  <thead>\n",
       "    <tr style=\"text-align: right;\">\n",
       "      <th></th>\n",
       "      <th>Fund_House</th>\n",
       "      <th>Scheme_Type</th>\n",
       "      <th>Scheme_Category</th>\n",
       "      <th>Scheme_Code</th>\n",
       "      <th>Scheme_Name</th>\n",
       "      <th>Date</th>\n",
       "      <th>NAV</th>\n",
       "    </tr>\n",
       "  </thead>\n",
       "  <tbody>\n",
       "    <tr>\n",
       "      <th>0</th>\n",
       "      <td>Standard Chartered Mutual Fund</td>\n",
       "      <td>Open Ended Schemes</td>\n",
       "      <td>Income</td>\n",
       "      <td>100027</td>\n",
       "      <td>Grindlays Super Saver Income Fund-GSSIF-Half Y...</td>\n",
       "      <td>29-05-2008</td>\n",
       "      <td>10.7205</td>\n",
       "    </tr>\n",
       "    <tr>\n",
       "      <th>1</th>\n",
       "      <td>Standard Chartered Mutual Fund</td>\n",
       "      <td>Open Ended Schemes</td>\n",
       "      <td>Income</td>\n",
       "      <td>100027</td>\n",
       "      <td>Grindlays Super Saver Income Fund-GSSIF-Half Y...</td>\n",
       "      <td>28-05-2008</td>\n",
       "      <td>10.7250</td>\n",
       "    </tr>\n",
       "    <tr>\n",
       "      <th>2</th>\n",
       "      <td>Standard Chartered Mutual Fund</td>\n",
       "      <td>Open Ended Schemes</td>\n",
       "      <td>Income</td>\n",
       "      <td>100027</td>\n",
       "      <td>Grindlays Super Saver Income Fund-GSSIF-Half Y...</td>\n",
       "      <td>27-05-2008</td>\n",
       "      <td>10.7216</td>\n",
       "    </tr>\n",
       "    <tr>\n",
       "      <th>3</th>\n",
       "      <td>Standard Chartered Mutual Fund</td>\n",
       "      <td>Open Ended Schemes</td>\n",
       "      <td>Income</td>\n",
       "      <td>100027</td>\n",
       "      <td>Grindlays Super Saver Income Fund-GSSIF-Half Y...</td>\n",
       "      <td>26-05-2008</td>\n",
       "      <td>10.7206</td>\n",
       "    </tr>\n",
       "    <tr>\n",
       "      <th>4</th>\n",
       "      <td>Standard Chartered Mutual Fund</td>\n",
       "      <td>Open Ended Schemes</td>\n",
       "      <td>Income</td>\n",
       "      <td>100027</td>\n",
       "      <td>Grindlays Super Saver Income Fund-GSSIF-Half Y...</td>\n",
       "      <td>23-05-2008</td>\n",
       "      <td>10.7152</td>\n",
       "    </tr>\n",
       "  </tbody>\n",
       "</table>\n",
       "</div>"
      ],
      "text/plain": [
       "                       Fund_House         Scheme_Type Scheme_Category  \\\n",
       "0  Standard Chartered Mutual Fund  Open Ended Schemes          Income   \n",
       "1  Standard Chartered Mutual Fund  Open Ended Schemes          Income   \n",
       "2  Standard Chartered Mutual Fund  Open Ended Schemes          Income   \n",
       "3  Standard Chartered Mutual Fund  Open Ended Schemes          Income   \n",
       "4  Standard Chartered Mutual Fund  Open Ended Schemes          Income   \n",
       "\n",
       "   Scheme_Code                                        Scheme_Name        Date  \\\n",
       "0       100027  Grindlays Super Saver Income Fund-GSSIF-Half Y...  29-05-2008   \n",
       "1       100027  Grindlays Super Saver Income Fund-GSSIF-Half Y...  28-05-2008   \n",
       "2       100027  Grindlays Super Saver Income Fund-GSSIF-Half Y...  27-05-2008   \n",
       "3       100027  Grindlays Super Saver Income Fund-GSSIF-Half Y...  26-05-2008   \n",
       "4       100027  Grindlays Super Saver Income Fund-GSSIF-Half Y...  23-05-2008   \n",
       "\n",
       "       NAV  \n",
       "0  10.7205  \n",
       "1  10.7250  \n",
       "2  10.7216  \n",
       "3  10.7206  \n",
       "4  10.7152  "
      ]
     },
     "execution_count": 2,
     "metadata": {},
     "output_type": "execute_result"
    }
   ],
   "source": [
    "import pandas as pd\n",
    "from sklearn.preprocessing import MinMaxScaler\n",
    "\n",
    "# Load raw data\n",
    "df = pd.read_csv(r\"C:/Users/BALA/OneDrive - University of Hertfordshire/Desktop/mutual-fund-recommender/data/raw/Mutual_Funds.csv\")\n",
    "print(\"Loaded:\", df.shape)\n",
    "df.head()\n"
   ]
  },
  {
   "cell_type": "code",
   "execution_count": 3,
   "id": "7262ebe0-d050-4575-a198-5e46e7a949bc",
   "metadata": {},
   "outputs": [],
   "source": [
    "# Handle Dates & Sort\n",
    "df['Date'] = pd.to_datetime(df['Date'], format='%d-%m-%Y', errors='coerce')\n",
    "df = df.dropna(subset=['Date'])\n",
    "df = df.sort_values(['Scheme_Code', 'Date'])\n"
   ]
  },
  {
   "cell_type": "code",
   "execution_count": 4,
   "id": "1b400290-08de-4730-862a-c4ac75e68e65",
   "metadata": {},
   "outputs": [],
   "source": [
    "# Clean NAV Column\n",
    "\n",
    "df['NAV'] = pd.to_numeric(df['NAV'], errors='coerce')\n",
    "df = df.dropna(subset=['NAV'])\n"
   ]
  },
  {
   "cell_type": "code",
   "execution_count": 5,
   "id": "a4cf76ae-3299-49ba-b6d1-286204a18139",
   "metadata": {},
   "outputs": [
    {
     "name": "stdout",
     "output_type": "stream",
     "text": [
      "Schemes with enough data: 28936\n",
      "Number of valid schemes: 28936\n"
     ]
    }
   ],
   "source": [
    "# Filter to Schemes with Enough Data \n",
    "# Only using schemes with >100 data points\n",
    "scheme_counts = df['Scheme_Code'].value_counts()\n",
    "valid_schemes = scheme_counts[scheme_counts > 100].index.tolist()\n",
    "df = df[df['Scheme_Code'].isin(valid_schemes)]\n",
    "print(\"Schemes with enough data:\", len(valid_schemes))\n",
    "\n",
    "print(\"Number of valid schemes:\", len(valid_schemes))\n",
    "\n"
   ]
  },
  {
   "cell_type": "code",
   "execution_count": 9,
   "id": "44df476c-7a8b-4c64-8959-519d17a70074",
   "metadata": {},
   "outputs": [
    {
     "name": "stderr",
     "output_type": "stream",
     "text": [
      "C:\\Users\\BALA\\AppData\\Local\\Temp\\ipykernel_1924\\1053152452.py:17: DeprecationWarning: DataFrameGroupBy.apply operated on the grouping columns. This behavior is deprecated, and in a future version of pandas the grouping columns will be excluded from the operation. Either pass `include_groups=False` to exclude the groupings or explicitly select the grouping columns after groupby to silence this warning.\n",
      "  .apply(scale_group)\n"
     ]
    }
   ],
   "source": [
    "from sklearn.preprocessing import MinMaxScaler\n",
    "\n",
    "# Define a function to scale NAV per group\n",
    "def scale_group(group):\n",
    "    scheme_code = group['Scheme_Code'].iloc[0]  # grab group label manually\n",
    "    scaler = MinMaxScaler()\n",
    "    group['NAV_scaled'] = scaler.fit_transform(group[['NAV']])\n",
    "    scaler_dict[scheme_code] = scaler\n",
    "    return group\n",
    "\n",
    "scaler_dict = {}\n",
    "\n",
    "# Group and apply without include_group\n",
    "df_scaled = (\n",
    "    df[df['Scheme_Code'].isin(valid_schemes)]\n",
    "    .groupby('Scheme_Code', group_keys=False)\n",
    "    .apply(scale_group)\n",
    ")\n",
    "\n",
    "df_scaled.reset_index(drop=True, inplace=True)\n"
   ]
  },
  {
   "cell_type": "code",
   "execution_count": 10,
   "id": "9014b291-79bf-4cf3-8a34-b340e26a242e",
   "metadata": {},
   "outputs": [
    {
     "name": "stdout",
     "output_type": "stream",
     "text": [
      "Preprocessed data saved to data/processed/preprocessed_mutual_funds.csv\n"
     ]
    }
   ],
   "source": [
    "#Save the Preprocessed CSV\n",
    "df_scaled.to_csv(\"C:/Users/BALA/OneDrive - University of Hertfordshire/Desktop/mutual-fund-recommender/data/processed/preprocessed_mutual_funds.csv\", index=False)\n",
    "print(\"Preprocessed data saved to data/processed/preprocessed_mutual_funds.csv\")\n"
   ]
  },
  {
   "cell_type": "code",
   "execution_count": null,
   "id": "22ef8172-7cc7-4eb0-a624-e53bad442f93",
   "metadata": {},
   "outputs": [],
   "source": []
  }
 ],
 "metadata": {
  "kernelspec": {
   "display_name": "Python 3 (ipykernel)",
   "language": "python",
   "name": "python3"
  },
  "language_info": {
   "codemirror_mode": {
    "name": "ipython",
    "version": 3
   },
   "file_extension": ".py",
   "mimetype": "text/x-python",
   "name": "python",
   "nbconvert_exporter": "python",
   "pygments_lexer": "ipython3",
   "version": "3.12.7"
  }
 },
 "nbformat": 4,
 "nbformat_minor": 5
}
